{
 "cells": [
  {
   "cell_type": "code",
   "execution_count": 1,
   "id": "e433f889-0c8d-464a-8fa9-83ac7f299805",
   "metadata": {},
   "outputs": [],
   "source": [
    "import torch\n",
    "from scripts.reconstruction import base_run, refinement_run\n",
    "from nvdiffrec.render import material\n",
    "from nvdiffrec.render import obj"
   ]
  },
  {
   "cell_type": "code",
   "execution_count": null,
   "id": "202bd95d-cbb1-4e29-aa31-ecc3a7578240",
   "metadata": {},
   "outputs": [],
   "source": [
    "base_run(\"data/processed/configs/\", \"data/results\")"
   ]
  },
  {
   "cell_type": "code",
   "execution_count": null,
   "id": "4d40088b-5e37-4ac8-8bf4-56b992d397cb",
   "metadata": {},
   "outputs": [
    {
     "name": "stdout",
     "output_type": "stream",
     "text": [
      "Encoder output: 32 dims\n"
     ]
    },
    {
     "name": "stderr",
     "output_type": "stream",
     "text": [
      "100%|██████████| 1066595/1066595 [00:04<00:00, 262490.05it/s]\n"
     ]
    },
    {
     "name": "stdout",
     "output_type": "stream",
     "text": [
      "starting to create tensors\n",
      "vertices\n",
      "texcoords\n",
      "normals\n",
      "faces\n",
      "tfaces\n",
      "nfaces\n",
      "mesh_\n",
      "done!\n",
      "here\n"
     ]
    }
   ],
   "source": [
    "refinement_run(\"data/results/artefact_storage/FLAGS.pickle\")"
   ]
  },
  {
   "cell_type": "code",
   "execution_count": null,
   "id": "75cbe923-f8aa-42ce-9f62-1e10c14cb3ac",
   "metadata": {},
   "outputs": [],
   "source": []
  }
 ],
 "metadata": {
  "environment": {
   "kernel": "conda-env-compvis-py",
   "name": "pytorch-gpu.1-11.m91",
   "type": "gcloud",
   "uri": "gcr.io/deeplearning-platform-release/pytorch-gpu.1-11:m91"
  },
  "kernelspec": {
   "display_name": "Python [conda env:compvis]",
   "language": "python",
   "name": "conda-env-compvis-py"
  },
  "language_info": {
   "codemirror_mode": {
    "name": "ipython",
    "version": 3
   },
   "file_extension": ".py",
   "mimetype": "text/x-python",
   "name": "python",
   "nbconvert_exporter": "python",
   "pygments_lexer": "ipython3",
   "version": "3.9.13"
  }
 },
 "nbformat": 4,
 "nbformat_minor": 5
}

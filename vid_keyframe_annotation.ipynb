{
 "cells": [
  {
   "cell_type": "markdown",
   "id": "ee836c94",
   "metadata": {},
   "source": [
    "### Annotation tool\n",
    "**by Michael Tkachuk. Please give credits upon reuse**  \n",
    "  \n",
    "  \n",
    "Basic use:\n",
    "- provide configuration in the following cell\n",
    "- modify frame_processing function if additional markup needed\n",
    "- modify postprocessing cell if needed"
   ]
  },
  {
   "cell_type": "code",
   "execution_count": 33,
   "id": "0086d4ed",
   "metadata": {},
   "outputs": [],
   "source": [
    "from IPython.display import display\n",
    "\n",
    "from ipywidgets import Button, Image, interact, interact_manual, TwoByTwoLayout, FloatText, Label, HBox, IntText, Layout\n",
    "\n",
    "import cv2 as cv\n",
    "import PIL.Image\n",
    "import io\n",
    "import numpy as np\n",
    "import json\n",
    "import os\n",
    "\n",
    "INTERVAL = 10\n",
    "VID_PATH = r\"C:\\Users\\Mykhailo_Tkachuk\\Downloads\\test-milk.mov\"\n",
    "META_PATH = r\"C:\\Users\\Mykhailo_Tkachuk\\Downloads\\meta.json\"\n",
    "OUTPUT_PATH = r\"C:\\Users\\Mykhailo_Tkachuk\\Downloads\\milk_angle\"\n",
    "if not os.path.exists(OUTPUT_PATH):\n",
    "    os.makedirs(OUTPUT_PATH)"
   ]
  },
  {
   "cell_type": "code",
   "execution_count": 34,
   "id": "34871cab",
   "metadata": {
    "scrolled": true
   },
   "outputs": [],
   "source": [
    "def slide(cap, forward=True, n=INTERVAL):\n",
    "    if forward:\n",
    "        if slide.frame_cursor + n < cap.get(cv.CAP_PROP_FRAME_COUNT):\n",
    "            slide.frame_cursor += n\n",
    "    else:\n",
    "        if slide.frame_cursor > 0:\n",
    "            slide.frame_cursor -= n\n",
    "    if slide.frame_cursor > cap.get(cv.CAP_PROP_POS_FRAMES):\n",
    "        while slide.frame_cursor != cap.get(cv.CAP_PROP_POS_FRAMES):\n",
    "            _ = cap.read()\n",
    "    if slide.frame_cursor == cap.get(cv.CAP_PROP_POS_FRAMES):\n",
    "        ret, frame = cap.read()\n",
    "        if not ret:\n",
    "            frame = None\n",
    "        slide.frames_cache.append(frame)\n",
    "    else:\n",
    "        frame = slide.frames_cache[slide.frame_cursor//n]  \n",
    "        \n",
    "    return cv.cvtColor(frame, cv.COLOR_BGR2RGB)\n",
    "slide.frame_cursor = 0\n",
    "slide.frames_cache = []"
   ]
  },
  {
   "cell_type": "code",
   "execution_count": 35,
   "id": "9b77ed15",
   "metadata": {},
   "outputs": [],
   "source": [
    "def frame_processing(frame):\n",
    "    cv.line(frame,(715,200),(715,650),(0,255,100),1)\n",
    "    return frame"
   ]
  },
  {
   "cell_type": "code",
   "execution_count": 36,
   "id": "fb609fe9",
   "metadata": {},
   "outputs": [],
   "source": [
    "def compress_to_bytes(data, fmt='png'):\n",
    "    \"\"\"\n",
    "    Helper function to compress image data via PIL/Pillow.\n",
    "    Also make some markup on-frame\n",
    "    \"\"\"\n",
    "    data = frame_processing(data)\n",
    "    buff = io.BytesIO()\n",
    "    img = PIL.Image.fromarray(data)    \n",
    "    img.save(buff, format=fmt)\n",
    "    \n",
    "    return buff.getvalue()"
   ]
  },
  {
   "cell_type": "code",
   "execution_count": 37,
   "id": "79ae04ee",
   "metadata": {},
   "outputs": [
    {
     "data": {
      "application/vnd.jupyter.widget-view+json": {
       "model_id": "6d0d4197a41a43f790f7f87ae30418be",
       "version_major": 2,
       "version_minor": 0
      },
      "text/plain": [
       "Image(value=b'\\x89PNG\\r\\n\\x1a\\n\\x00\\x00\\x00\\rIHDR\\x00\\x00\\x05\\x00\\x00\\x00\\x02\\xd0\\x08\\x02\\x00\\x00\\x00@\\x1fJ\\x0…"
      ]
     },
     "metadata": {},
     "output_type": "display_data"
    },
    {
     "data": {
      "application/vnd.jupyter.widget-view+json": {
       "model_id": "21f7e32712e14e7a8df4d5f783a88e6f",
       "version_major": 2,
       "version_minor": 0
      },
      "text/plain": [
       "TwoByTwoLayout(children=(Button(description='Back', layout=Layout(grid_area='top-left'), style=ButtonStyle()),…"
      ]
     },
     "metadata": {},
     "output_type": "display_data"
    }
   ],
   "source": [
    "# init video reader and render first frame\n",
    "\n",
    "cap = cv.VideoCapture(VID_PATH)\n",
    "slide.frame_cursor = -INTERVAL\n",
    "slide.frames_cache = []\n",
    "\n",
    "canvas = Image(value=compress_to_bytes(slide(cap)))\n",
    "\n",
    "# create or load a checkpoint.json file\n",
    "\n",
    "try:\n",
    "    with open(os.path.join(OUTPUT_PATH, 'checkpoint.json')) as f:\n",
    "        annotations = json.load(f)\n",
    "except:\n",
    "    annotations = {}\n",
    "\n",
    "# define annotation and frame rendering functions\n",
    "\n",
    "def render(b, cap, canvas_=canvas, forward=True, n=INTERVAL):\n",
    "    canvas_.value = compress_to_bytes(slide(cap, forward=forward, n=n))\n",
    "    current.value = f'cursor at: {slide.frame_cursor}'\n",
    "    \n",
    "def annotate(b, val):\n",
    "    annotations[str(slide.frame_cursor)] = val.value\n",
    "    with open(os.path.join(OUTPUT_PATH, 'checkpoint.json'), 'w') as f:\n",
    "        json.dump(annotations, f)\n",
    "    \n",
    "def jump(b, pos):\n",
    "    pos = pos.value\n",
    "    if pos > slide.frame_cursor:\n",
    "        for _ in range((pos - slide.frame_cursor)//INTERVAL - 1): # jump to closest position frame_curser < pos - INTERVAL\n",
    "            slide(cap, forward=True)\n",
    "        render(b, cap,) # render one step forward to be closest position frame_curser < pos\n",
    "    elif pos < slide.frame_cursor:\n",
    "        for _ in range((slide.frame_cursor - pos)//INTERVAL -1): # jump to closest position frame_curser < pos - INTERVAL\n",
    "            slide(cap, forward=False)\n",
    "        render(b, cap,forward=False) # render one step forward to be closest position frame_curser < pos\n",
    "    else:\n",
    "        return\n",
    "    \n",
    "\n",
    "r = Button(description='Forward')\n",
    "r.on_click(lambda x: render(x, cap))\n",
    "\n",
    "l = Button(description='Back')\n",
    "l.on_click(lambda x: render(x, cap, forward=False))\n",
    "\n",
    "val = FloatText(val=0)\n",
    "\n",
    "confirm = Button(description='Set')\n",
    "confirm.on_click(lambda x: annotate(x, val))\n",
    "\n",
    "current = Label(value=f'cursor at: {slide.frame_cursor}')\n",
    "jump_to = IntText(val=0, layout=Layout(width='15%'))\n",
    "jump_button = Button(description='Jump')\n",
    "jump_button.on_click(lambda x: jump(x, jump_to))\n",
    "\n",
    "layout = TwoByTwoLayout(top_left=l,\n",
    "                        top_right=r,\n",
    "               bottom_left=HBox([val, confirm]),\n",
    "               bottom_right=HBox([current, jump_to, jump_button]))\n",
    "\n",
    "display(canvas)\n",
    "display(layout)"
   ]
  },
  {
   "cell_type": "markdown",
   "id": "d06de0d4",
   "metadata": {},
   "source": [
    "#### Postprocessing cell"
   ]
  },
  {
   "cell_type": "code",
   "execution_count": 40,
   "id": "384f771b",
   "metadata": {},
   "outputs": [],
   "source": [
    "multiplier = 2*np.pi/141.2\n",
    "\n",
    "with open(os.path.join(OUTPUT_PATH, 'checkpoint.json')) as f:\n",
    "    annotations = json.load(f)\n",
    "keys = sorted(list(annotations.keys()), key=lambda x: int(x))\n",
    "\n",
    "out = {}\n",
    "for i in range(1,len(keys)):\n",
    "    dst_interpolation = np.linspace(annotations[keys[i-1]], annotations[keys[i]], int(keys[i]) - int(keys[i-1])+1)\n",
    "    dst_interpolation *= multiplier\n",
    "    for frame, dst in zip(range(int(keys[i-1]),int(keys[i])),dst_interpolation):\n",
    "        out[frame-204+111] = f'{dst:.5f}'\n",
    "with open(os.path.join(OUTPUT_PATH, 'theta.json'), 'w') as f:\n",
    "    json.dump(out, f)"
   ]
  },
  {
   "cell_type": "code",
   "execution_count": 15,
   "id": "db2e288f",
   "metadata": {},
   "outputs": [],
   "source": [
    "\"\"\"\n",
    "Metadata info\n",
    "\"\"\"\n",
    "with open(os.path.join(META_PATH)) as m:\n",
    "    meta = json.load(m)\n",
    "meta['trim'] = [111, 2725]\n",
    "with open(os.path.join(META_PATH), 'w') as m:\n",
    "    json.dump(meta, m)"
   ]
  },
  {
   "cell_type": "code",
   "execution_count": 41,
   "id": "9fe8619f",
   "metadata": {},
   "outputs": [
    {
     "data": {
      "text/plain": [
       "[<matplotlib.lines.Line2D at 0x255b296d820>]"
      ]
     },
     "execution_count": 41,
     "metadata": {},
     "output_type": "execute_result"
    },
    {
     "data": {
      "image/png": "[encoded data removed]",
      "text/plain": [
       "<Figure size 432x288 with 1 Axes>"
      ]
     },
     "metadata": {
      "needs_background": "light"
     },
     "output_type": "display_data"
    }
   ],
   "source": [
    "import matplotlib.pyplot as plt\n",
    "plt.plot([int(k) for k in keys], [annotations[k] for k in keys])"
   ]
  }
 ],
 "metadata": {
  "kernelspec": {
   "display_name": "Python 3 (ipykernel)",
   "language": "python",
   "name": "python3"
  },
  "language_info": {
   "codemirror_mode": {
    "name": "ipython",
    "version": 3
   },
   "file_extension": ".py",
   "mimetype": "text/x-python",
   "name": "python",
   "nbconvert_exporter": "python",
   "pygments_lexer": "ipython3",
   "version": "3.9.7"
  }
 },
 "nbformat": 4,
 "nbformat_minor": 5
}
